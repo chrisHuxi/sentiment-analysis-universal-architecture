{
 "metadata": {
  "name": ""
 },
 "nbformat": 3,
 "nbformat_minor": 0,
 "worksheets": [
  {
   "cells": [
    {
     "cell_type": "code",
     "collapsed": false,
     "input": [
      "# These are all the modules we'll be using later. Make sure you can import them\n",
      "# before proceeding further.\n",
      "from __future__ import print_function\n",
      "import numpy as np\n",
      "import tensorflow as tf\n",
      "import matplotlib.pyplot as plt"
     ],
     "language": "python",
     "metadata": {},
     "outputs": [
      {
       "output_type": "stream",
       "stream": "stderr",
       "text": [
        "/usr/local/lib/python2.7/dist-packages/sklearn/cross_validation.py:44: DeprecationWarning: This module was deprecated in version 0.18 in favor of the model_selection module into which all the refactored classes and functions are moved. Also note that the interface of the new CV iterators are different from that of this module. This module will be removed in 0.20.\n",
        "  \"This module will be removed in 0.20.\", DeprecationWarning)\n"
       ]
      }
     ],
     "prompt_number": 1
    },
    {
     "cell_type": "code",
     "collapsed": false,
     "input": [
      "def readSentence2Array(sentenceFileName,inputMaxLength = 128 , inputMaxLengthFlag = 1):\n",
      "    file = open(sentenceFileName,'r')\n",
      "    lines = file.readlines()\n",
      "    sentenceList = []\n",
      "    for line in lines:\n",
      "        splitList = line.strip().split(' ')\n",
      "        sentenceList.append(splitList)\n",
      "    maxLength = len(sentenceList[0])\n",
      "    for row in sentenceList:\n",
      "        if maxLength <= len(row):\n",
      "            maxLength = len(row)\n",
      "    if inputMaxLengthFlag == 0: \n",
      "        for row in sentenceList:\n",
      "            for i in range(len(row),maxLength):\n",
      "                row.append('0')\n",
      "                \n",
      "    elif inputMaxLengthFlag == 1:\n",
      "        temp_list = []\n",
      "        for row in sentenceList:\n",
      "            if len(row) < inputMaxLength:\n",
      "                for i in range(len(row),inputMaxLength):\n",
      "                    row.append('0')\n",
      "                temp_list.append(row)\n",
      "            elif len(row) >= inputMaxLength:\n",
      "                temp_list.append(row[0:inputMaxLength])\n",
      "        sentenceList = temp_list\n",
      "        \n",
      "    numSentenceList = strList2numList2D(sentenceList)\n",
      "    print (np.array(numSentenceList))\n",
      "    return np.array(numSentenceList)\n",
      "\n",
      "def strList2numList2D(strlist):\n",
      "    copyList = []\n",
      "    for sentence in strlist:\n",
      "        temp_list = []\n",
      "        for number in sentence:\n",
      "            temp_list.append(int(number))\n",
      "        copyList.append(temp_list)\n",
      "    return copyList\n",
      "\n",
      "def readLabelFile2Array(LabelFileName):\n",
      "    file = open(LabelFileName,'r')\n",
      "    lines = file.readlines()\n",
      "    labelList = []\n",
      "    for line in lines:\n",
      "        splitList = line.strip()\n",
      "        labelList.append(splitList)\n",
      "    return np.array(labelList)\n",
      "\n",
      "\n",
      "savedArrayFile = r'/media/huxi/\u65b0\u52a0\u53771/NLP_exLab/pythonCode/CNN/data/hotel_annotatedData_utf8/non-static/embeddingVocabulary.npy'\n",
      "wordEmbedding = np.load(savedArrayFile)\n",
      "\n",
      "lengthEmbedding = np.shape(wordEmbedding)[1]#\u8bcd\u5411\u91cf\u957f\u5ea6\n",
      "lengthVocabulary = np.shape(wordEmbedding)[0]#\u8bcd\u5178\u957f\u5ea6\n",
      "\n",
      "sentenceFileName = r'/media/huxi/\u65b0\u52a0\u53771/NLP_exLab/pythonCode/CNN/data/hotel_annotatedData_utf8/non-static/sentence_index.txt'\n",
      "sentenceArray = readSentence2Array(sentenceFileName)\n",
      "num_array = np.shape(sentenceArray)[0]#\u53e5\u5b50\u6761\u6570\n",
      "sentenceLength = np.shape(sentenceArray)[1]#\u53e5\u5b50\u957f\u5ea6\n",
      "print (sentenceLength)\n",
      "\n",
      "train_dataset = sentenceArray[0:int(num_array*0.8)]\n",
      "#train_labels = save['train_labels']\n",
      "valid_dataset = sentenceArray[int(num_array*0.8):int(num_array*0.8)+int(num_array*0.1)]\n",
      "#valid_labels = save['valid_labels']\n",
      "test_dataset = sentenceArray[int(num_array*0.8)+int(num_array*0.1):]\n",
      "#test_labels = save['test_labels']\n",
      "\n",
      "LabelFileName =  r'/media/huxi/\u65b0\u52a0\u53771/NLP_exLab/pythonCode/CNN/data/hotel_annotatedData_utf8/shuffData_result/shuffledLabel.txt'\n",
      "labels = readLabelFile2Array(LabelFileName)\n",
      "\n",
      "train_labels = labels[0:int(num_array*0.8)]\n",
      "valid_labels = labels[int(num_array*0.8):int(num_array*0.8)+int(num_array*0.1)]\n",
      "test_labels = labels[int(num_array*0.8)+int(num_array*0.1):]\n",
      "#del save  # hint to help gc free up memory\n",
      "#print (train_labels)\n",
      "print('Training set', train_dataset.shape, train_labels.shape)\n",
      "print('Validation set', valid_dataset.shape, valid_labels.shape)\n",
      "print('Test set', test_dataset.shape, test_labels.shape)"
     ],
     "language": "python",
     "metadata": {},
     "outputs": [
      {
       "output_type": "stream",
       "stream": "stdout",
       "text": [
        "[[ 9263  9508  2557 ..., 11645 12949  1690]\n",
        " [ 9946   306 11544 ...,     0     0     0]\n",
        " [ 4274  5417  8530 ...,     0     0     0]\n",
        " ..., \n",
        " [ 4274  8764  5013 ...,     0     0     0]\n",
        " [ 5417 10027  6540 ...,     0     0     0]\n",
        " [ 3720  3955 10958 ...,     0     0     0]]\n",
        "128\n",
        "Training set (3804, 128) (3804,)\n",
        "Validation set (475, 128) (475,)\n",
        "Test set (476, 128) (476,)\n"
       ]
      }
     ],
     "prompt_number": 2
    },
    {
     "cell_type": "code",
     "collapsed": false,
     "input": [
      "num_labels = 2\n",
      "num_channels = 1\n",
      "\n",
      "\n",
      "def reformat(dataset,labels):\n",
      "  label_T  = []\n",
      "  #print (labels)\n",
      "  dataset = dataset.reshape((dataset.shape[0], dataset.shape[1], num_channels))\n",
      "  for label in labels:\n",
      "        #print (type(label))\n",
      "        if label == '0':\n",
      "            label_T.append([1,0])\n",
      "        elif label == '1':\n",
      "            label_T.append([0,1])\n",
      "  newLabels = np.array(label_T)\n",
      "  return dataset,newLabels\n",
      "train_dataset, train_labels = reformat(train_dataset, train_labels)\n",
      "valid_dataset, valid_labels = reformat(valid_dataset, valid_labels)\n",
      "test_dataset, test_labels = reformat(test_dataset, test_labels)\n",
      "print('Training set', train_dataset.shape, train_labels.shape)\n",
      "print('Validation set', valid_dataset.shape, valid_labels.shape)\n",
      "print('Test set', test_dataset.shape, test_labels.shape)"
     ],
     "language": "python",
     "metadata": {},
     "outputs": [
      {
       "output_type": "stream",
       "stream": "stdout",
       "text": [
        "Training set (3804, 128, 1) (3804, 2)\n",
        "Validation set (475, 128, 1) (475, 2)\n",
        "Test set (476, 128, 1) (476, 2)\n"
       ]
      }
     ],
     "prompt_number": 3
    },
    {
     "cell_type": "code",
     "collapsed": false,
     "input": [
      "print (train_labels)"
     ],
     "language": "python",
     "metadata": {},
     "outputs": [
      {
       "output_type": "stream",
       "stream": "stdout",
       "text": [
        "[[0 1]\n",
        " [1 0]\n",
        " [0 1]\n",
        " ..., \n",
        " [1 0]\n",
        " [0 1]\n",
        " [0 1]]\n"
       ]
      }
     ],
     "prompt_number": 4
    },
    {
     "cell_type": "code",
     "collapsed": false,
     "input": [
      "def accuracy(predictions, labels):\n",
      "  return (100.0 * np.sum(np.argmax(predictions, 1) == np.argmax(labels, 1))\n",
      "          / predictions.shape[0])"
     ],
     "language": "python",
     "metadata": {},
     "outputs": [],
     "prompt_number": 5
    },
    {
     "cell_type": "code",
     "collapsed": false,
     "input": [
      "#\u8fd9\u91cc\u8fd8\u6709\u95ee\u9898 \u6162\u6162\u6539\u5427\n",
      "batch_size = 128\n",
      "filter_sizeList = [2,4,8,16,32]\n",
      "embedding_size = lengthEmbedding\n",
      "vocabulary_size = lengthVocabulary\n",
      "depth = 200\n",
      "num_hidden = 64\n",
      "num_hidden2 = 16\n",
      "beta = 0.0005\n",
      "keep_drop = 0.6\n",
      "num_steps = 3001\n",
      "sequence_length = sentenceLength\n",
      "num_filters_total = depth * len(filter_sizeList)\n",
      "lr = 0.005\n",
      "\n",
      "graph = tf.Graph()\n",
      "\n",
      "with graph.as_default():\n",
      "\n",
      "  # Input data.\n",
      "  tf_train_dataset = tf.placeholder(\n",
      "    tf.int64, shape=(batch_size,sequence_length,1))\n",
      "  tf_train_labels = tf.placeholder(tf.float32, shape=(batch_size, num_labels))\n",
      "  tf_valid_dataset = tf.constant(valid_dataset)\n",
      "  tf_test_dataset = tf.constant(test_dataset)\n",
      "  #tf_pretrained_embedding = tf.placeholder(tf.float32, shape=(vocabulary_size,embedding_size))\n",
      "  #Variable\n",
      "  embeddings = tf.Variable(wordEmbedding)\n",
      "  #embeddings.assign(tf_pretrained_embedding)\n",
      "\n",
      "  layer1_weightsList = []\n",
      "  layer1_biasesList = []\n",
      "  for i in range(0,len(filter_sizeList)):\n",
      "      layer1_weightsList.append(tf.Variable(tf.truncated_normal([filter_sizeList[i], embedding_size, num_channels, depth], stddev=0.1)))\n",
      "      layer1_biasesList.append(tf.Variable(tf.zeros([depth])))\n",
      "        \n",
      "  #layer2_weights = tf.Variable(tf.truncated_normal([num_filters_total, num_hidden], stddev=0.1))\n",
      "  #layer2_biases = tf.Variable(tf.constant(1.0, shape=[num_hidden]))      \n",
      "        \n",
      "  layer3_weights = tf.Variable(tf.truncated_normal([num_filters_total, num_labels], stddev=0.1))\n",
      "  layer3_biases = tf.Variable(tf.constant(1.0, shape=[num_labels]))\n",
      "        \n",
      "  # Model.\n",
      "  def model(data,dropout_flag,filter_sizeList):\n",
      "            \n",
      "    embed = tf.nn.embedding_lookup(embeddings,data[:,:,0])\n",
      "    \n",
      "    newEmbed = tf.expand_dims(embed , -1)\n",
      "    \n",
      "    allMaxPoolingLayer = []\n",
      "    l2_loss_term = tf.constant(0.0)\n",
      "    i = 0\n",
      "    for filter_size in filter_sizeList:\n",
      "        conv = tf.nn.conv2d( newEmbed, layer1_weightsList[i], [1, 1 , 1, 1], padding='VALID',use_cudnn_on_gpu=True)\n",
      "        hidden = tf.nn.relu(conv + layer1_biasesList[i])\n",
      "        if dropout_flag == 1:\n",
      "            hidden = tf.nn.dropout(hidden,keep_drop)\n",
      "        pooling = tf.nn.max_pool(hidden, [ 1,sequence_length - filter_size + 1,1,1 ] , [1, 1,1, 1], padding='VALID')\n",
      "        allMaxPoolingLayer.append(pooling)\n",
      "        \n",
      "        l2_loss_term = l2_loss_term + tf.nn.l2_loss(layer1_weightsList[i]) + tf.nn.l2_loss(layer1_biasesList[i])\n",
      "        i = i+1\n",
      "    allMaxPoolingLayer_T = tf.concat(3,allMaxPoolingLayer)\n",
      "    \n",
      "    reshape = tf.reshape(allMaxPoolingLayer_T, [ -1, num_filters_total ])\n",
      "    if dropout_flag == 1:\n",
      "        reshape = tf.nn.dropout(reshape,keep_drop)\n",
      "\n",
      "    scores = tf.matmul(reshape, layer3_weights) + layer3_biases\n",
      "    l2_loss_term = l2_loss_term + tf.nn.l2_loss(layer3_weights) + tf.nn.l2_loss(layer3_biases)\n",
      "\n",
      "    return scores,l2_loss_term\n",
      "  \n",
      "  # Training computation.\n",
      "  #embedding.assign(tf_train_dataset)\n",
      "  logits,l2_loss_term = model(tf_train_dataset,1,filter_sizeList)\n",
      "  loss = tf.reduce_mean(\n",
      "    tf.nn.softmax_cross_entropy_with_logits(logits, tf_train_labels)) + beta* ( l2_loss_term )\n",
      "    \n",
      "  # Optimizer.\n",
      "  global_step = tf.Variable(0)  # count the number of steps taken.\n",
      "  learning_rate = tf.train.exponential_decay(lr, global_step, num_steps, 0.96)\n",
      "  optimizer = tf.train.GradientDescentOptimizer(learning_rate).minimize(loss, global_step=global_step)\n",
      "  \n",
      "  # Predictions for the training, validation, and test data.\n",
      "  train_prediction = tf.nn.softmax(logits)\n",
      "  valid_prediction = tf.nn.softmax(model(tf_valid_dataset,0,filter_sizeList)[0])\n",
      "  test_prediction = tf.nn.softmax(model(tf_test_dataset,0,filter_sizeList)[0])"
     ],
     "language": "python",
     "metadata": {},
     "outputs": [],
     "prompt_number": 10
    },
    {
     "cell_type": "code",
     "collapsed": false,
     "input": [
      "train_plot_x = []\n",
      "train_plot_y = []\n",
      "valid_plot_y = []\n",
      "\n",
      "\n",
      "with tf.Session(graph=graph) as session:\n",
      "  tf.initialize_all_variables().run()\n",
      "  print('Initialized')\n",
      "  for step in range(num_steps):\n",
      "    offset = (step * batch_size) % (train_labels.shape[0] - batch_size)\n",
      "    batch_data = train_dataset[offset:(offset + batch_size), :, :]\n",
      "    batch_labels = train_labels[offset:(offset + batch_size), :]\n",
      "    feed_dict = {tf_train_dataset : batch_data, tf_train_labels : batch_labels}\n",
      "    _, l, predictions = session.run(\n",
      "      [optimizer, loss, train_prediction], feed_dict=feed_dict)\n",
      "    if (step % 50 == 0):\n",
      "      print('Minibatch loss at step %d: %f' % (step, l))\n",
      "      print('Minibatch accuracy: %.1f%%' % accuracy(predictions, batch_labels))\n",
      "      train_plot_x.append(step)\n",
      "      train_plot_y.append(accuracy(predictions, batch_labels))\n",
      "        \n",
      "      print('Validation accuracy: %.1f%%' % accuracy(\n",
      "        valid_prediction.eval(), valid_labels))\n",
      "      valid_plot_y.append(accuracy(valid_prediction.eval(), valid_labels))\n",
      "        \n",
      "  print('Test accuracy: %.1f%%' % accuracy(test_prediction.eval(), test_labels))\n",
      "\n",
      "  plt.plot(train_plot_x, train_plot_y,'b-',label = \"train accuracy\")\n",
      "  plt.plot(train_plot_x, valid_plot_y,'r-',label = \"valid accuracy\")\n",
      "  plt.xlabel(\"step\")\n",
      "  plt.ylabel(\"accuracy\")\n",
      "  plt.show()\n",
      "  print(test_prediction.eval())\n",
      "  print(test_labels)\n",
      "#\u770b\u6837\u5b50\u662f\u8fc7\u62df\u5408\u4e86"
     ],
     "language": "python",
     "metadata": {},
     "outputs": [
      {
       "output_type": "stream",
       "stream": "stdout",
       "text": [
        "Initialized\n",
        "Minibatch loss at step 0: 33.561928"
       ]
      },
      {
       "output_type": "stream",
       "stream": "stdout",
       "text": [
        "\n",
        "Minibatch accuracy: 50.0%\n",
        "Validation accuracy: 45.9%"
       ]
      },
      {
       "output_type": "stream",
       "stream": "stdout",
       "text": [
        "\n",
        "Minibatch loss at step 50: 142.468109"
       ]
      },
      {
       "output_type": "stream",
       "stream": "stdout",
       "text": [
        "\n",
        "Minibatch accuracy: 45.3%\n",
        "Validation accuracy: 46.1%"
       ]
      },
      {
       "output_type": "stream",
       "stream": "stdout",
       "text": [
        "\n",
        "Minibatch loss at step 100: 59.779369"
       ]
      },
      {
       "output_type": "stream",
       "stream": "stdout",
       "text": [
        "\n",
        "Minibatch accuracy: 49.2%\n",
        "Validation accuracy: 49.3%"
       ]
      },
      {
       "output_type": "stream",
       "stream": "stdout",
       "text": [
        "\n",
        "Minibatch loss at step 150: 32.673180"
       ]
      },
      {
       "output_type": "stream",
       "stream": "stdout",
       "text": [
        "\n",
        "Minibatch accuracy: 52.3%\n",
        "Validation accuracy: 49.9%"
       ]
      },
      {
       "output_type": "stream",
       "stream": "stdout",
       "text": [
        "\n",
        "Minibatch loss at step 200: 11.389692"
       ]
      },
      {
       "output_type": "stream",
       "stream": "stdout",
       "text": [
        "\n",
        "Minibatch accuracy: 64.1%\n",
        "Validation accuracy: 59.4%"
       ]
      },
      {
       "output_type": "stream",
       "stream": "stdout",
       "text": [
        "\n",
        "Minibatch loss at step 250: 17.015965"
       ]
      },
      {
       "output_type": "stream",
       "stream": "stdout",
       "text": [
        "\n",
        "Minibatch accuracy: 61.7%\n",
        "Validation accuracy: 63.4%"
       ]
      },
      {
       "output_type": "stream",
       "stream": "stdout",
       "text": [
        "\n",
        "Minibatch loss at step 300: 8.819491"
       ]
      },
      {
       "output_type": "stream",
       "stream": "stdout",
       "text": [
        "\n",
        "Minibatch accuracy: 69.5%\n",
        "Validation accuracy: 72.2%"
       ]
      },
      {
       "output_type": "stream",
       "stream": "stdout",
       "text": [
        "\n",
        "Minibatch loss at step 350: 5.734433"
       ]
      },
      {
       "output_type": "stream",
       "stream": "stdout",
       "text": [
        "\n",
        "Minibatch accuracy: 77.3%\n",
        "Validation accuracy: 66.1%"
       ]
      },
      {
       "output_type": "stream",
       "stream": "stdout",
       "text": [
        "\n",
        "Minibatch loss at step 400: 3.509477"
       ]
      },
      {
       "output_type": "stream",
       "stream": "stdout",
       "text": [
        "\n",
        "Minibatch accuracy: 80.5%\n",
        "Validation accuracy: 60.8%"
       ]
      },
      {
       "output_type": "stream",
       "stream": "stdout",
       "text": [
        "\n",
        "Minibatch loss at step 450: 8.402164"
       ]
      },
      {
       "output_type": "stream",
       "stream": "stdout",
       "text": [
        "\n",
        "Minibatch accuracy: 73.4%\n",
        "Validation accuracy: 74.9%"
       ]
      },
      {
       "output_type": "stream",
       "stream": "stdout",
       "text": [
        "\n",
        "Minibatch loss at step 500: 3.566606"
       ]
      },
      {
       "output_type": "stream",
       "stream": "stdout",
       "text": [
        "\n",
        "Minibatch accuracy: 78.1%\n",
        "Validation accuracy: 82.3%"
       ]
      },
      {
       "output_type": "stream",
       "stream": "stdout",
       "text": [
        "\n",
        "Minibatch loss at step 550: 3.192229"
       ]
      },
      {
       "output_type": "stream",
       "stream": "stdout",
       "text": [
        "\n",
        "Minibatch accuracy: 84.4%\n",
        "Validation accuracy: 75.6%"
       ]
      },
      {
       "output_type": "stream",
       "stream": "stdout",
       "text": [
        "\n",
        "Minibatch loss at step 600: 3.535375"
       ]
      },
      {
       "output_type": "stream",
       "stream": "stdout",
       "text": [
        "\n",
        "Minibatch accuracy: 79.7%\n",
        "Validation accuracy: 81.1%"
       ]
      },
      {
       "output_type": "stream",
       "stream": "stdout",
       "text": [
        "\n",
        "Minibatch loss at step 650: 4.608461"
       ]
      },
      {
       "output_type": "stream",
       "stream": "stdout",
       "text": [
        "\n",
        "Minibatch accuracy: 74.2%\n",
        "Validation accuracy: 73.1%"
       ]
      },
      {
       "output_type": "stream",
       "stream": "stdout",
       "text": [
        "\n",
        "Minibatch loss at step 700: 2.458837"
       ]
      },
      {
       "output_type": "stream",
       "stream": "stdout",
       "text": [
        "\n",
        "Minibatch accuracy: 82.0%\n",
        "Validation accuracy: 81.5%"
       ]
      },
      {
       "output_type": "stream",
       "stream": "stdout",
       "text": [
        "\n",
        "Minibatch loss at step 750: 2.345366"
       ]
      },
      {
       "output_type": "stream",
       "stream": "stdout",
       "text": [
        "\n",
        "Minibatch accuracy: 89.1%\n",
        "Validation accuracy: 82.9%"
       ]
      },
      {
       "output_type": "stream",
       "stream": "stdout",
       "text": [
        "\n",
        "Minibatch loss at step 800: 2.763034"
       ]
      },
      {
       "output_type": "stream",
       "stream": "stdout",
       "text": [
        "\n",
        "Minibatch accuracy: 82.0%\n",
        "Validation accuracy: 73.9%"
       ]
      },
      {
       "output_type": "stream",
       "stream": "stdout",
       "text": [
        "\n",
        "Minibatch loss at step 850: 3.435015"
       ]
      },
      {
       "output_type": "stream",
       "stream": "stdout",
       "text": [
        "\n",
        "Minibatch accuracy: 78.9%\n",
        "Validation accuracy: 58.3%"
       ]
      },
      {
       "output_type": "stream",
       "stream": "stdout",
       "text": [
        "\n",
        "Minibatch loss at step 900: 2.681367"
       ]
      },
      {
       "output_type": "stream",
       "stream": "stdout",
       "text": [
        "\n",
        "Minibatch accuracy: 82.8%\n",
        "Validation accuracy: 70.9%"
       ]
      },
      {
       "output_type": "stream",
       "stream": "stdout",
       "text": [
        "\n",
        "Minibatch loss at step 950: 2.347744"
       ]
      },
      {
       "output_type": "stream",
       "stream": "stdout",
       "text": [
        "\n",
        "Minibatch accuracy: 81.2%\n",
        "Validation accuracy: 82.3%"
       ]
      },
      {
       "output_type": "stream",
       "stream": "stdout",
       "text": [
        "\n",
        "Minibatch loss at step 1000: 2.054942"
       ]
      },
      {
       "output_type": "stream",
       "stream": "stdout",
       "text": [
        "\n",
        "Minibatch accuracy: 89.1%\n",
        "Validation accuracy: 81.9%"
       ]
      },
      {
       "output_type": "stream",
       "stream": "stdout",
       "text": [
        "\n",
        "Minibatch loss at step 1050: 1.877720"
       ]
      },
      {
       "output_type": "stream",
       "stream": "stdout",
       "text": [
        "\n",
        "Minibatch accuracy: 91.4%\n",
        "Validation accuracy: 81.3%"
       ]
      },
      {
       "output_type": "stream",
       "stream": "stdout",
       "text": [
        "\n",
        "Minibatch loss at step 1100: 1.734508"
       ]
      },
      {
       "output_type": "stream",
       "stream": "stdout",
       "text": [
        "\n",
        "Minibatch accuracy: 89.8%\n",
        "Validation accuracy: 83.8%"
       ]
      },
      {
       "output_type": "stream",
       "stream": "stdout",
       "text": [
        "\n",
        "Minibatch loss at step 1150: 1.782066"
       ]
      },
      {
       "output_type": "stream",
       "stream": "stdout",
       "text": [
        "\n",
        "Minibatch accuracy: 89.8%\n",
        "Validation accuracy: 82.1%"
       ]
      },
      {
       "output_type": "stream",
       "stream": "stdout",
       "text": [
        "\n",
        "Minibatch loss at step 1200: 1.909683"
       ]
      },
      {
       "output_type": "stream",
       "stream": "stdout",
       "text": [
        "\n",
        "Minibatch accuracy: 89.8%\n",
        "Validation accuracy: 77.5%"
       ]
      },
      {
       "output_type": "stream",
       "stream": "stdout",
       "text": [
        "\n",
        "Minibatch loss at step 1250: 1.973090"
       ]
      },
      {
       "output_type": "stream",
       "stream": "stdout",
       "text": [
        "\n",
        "Minibatch accuracy: 86.7%\n",
        "Validation accuracy: 83.4%"
       ]
      },
      {
       "output_type": "stream",
       "stream": "stdout",
       "text": [
        "\n",
        "Minibatch loss at step 1300: 1.807343"
       ]
      },
      {
       "output_type": "stream",
       "stream": "stdout",
       "text": [
        "\n",
        "Minibatch accuracy: 89.8%\n",
        "Validation accuracy: 83.8%"
       ]
      },
      {
       "output_type": "stream",
       "stream": "stdout",
       "text": [
        "\n",
        "Minibatch loss at step 1350: 2.251453"
       ]
      },
      {
       "output_type": "stream",
       "stream": "stdout",
       "text": [
        "\n",
        "Minibatch accuracy: 86.7%\n",
        "Validation accuracy: 82.5%"
       ]
      },
      {
       "output_type": "stream",
       "stream": "stdout",
       "text": [
        "\n",
        "Minibatch loss at step 1400: 1.682122"
       ]
      },
      {
       "output_type": "stream",
       "stream": "stdout",
       "text": [
        "\n",
        "Minibatch accuracy: 91.4%\n",
        "Validation accuracy: 83.6%"
       ]
      },
      {
       "output_type": "stream",
       "stream": "stdout",
       "text": [
        "\n",
        "Minibatch loss at step 1450: 1.783371"
       ]
      },
      {
       "output_type": "stream",
       "stream": "stdout",
       "text": [
        "\n",
        "Minibatch accuracy: 89.8%\n",
        "Validation accuracy: 81.3%"
       ]
      },
      {
       "output_type": "stream",
       "stream": "stdout",
       "text": [
        "\n",
        "Minibatch loss at step 1500: 1.712297"
       ]
      },
      {
       "output_type": "stream",
       "stream": "stdout",
       "text": [
        "\n",
        "Minibatch accuracy: 90.6%\n",
        "Validation accuracy: 81.3%"
       ]
      },
      {
       "output_type": "stream",
       "stream": "stdout",
       "text": [
        "\n",
        "Minibatch loss at step 1550: 1.775595"
       ]
      },
      {
       "output_type": "stream",
       "stream": "stdout",
       "text": [
        "\n",
        "Minibatch accuracy: 89.8%\n",
        "Validation accuracy: 82.5%"
       ]
      },
      {
       "output_type": "stream",
       "stream": "stdout",
       "text": [
        "\n",
        "Minibatch loss at step 1600: 1.550540"
       ]
      },
      {
       "output_type": "stream",
       "stream": "stdout",
       "text": [
        "\n",
        "Minibatch accuracy: 92.2%\n",
        "Validation accuracy: 79.6%"
       ]
      },
      {
       "output_type": "stream",
       "stream": "stdout",
       "text": [
        "\n",
        "Minibatch loss at step 1650: 1.951012"
       ]
      },
      {
       "output_type": "stream",
       "stream": "stdout",
       "text": [
        "\n",
        "Minibatch accuracy: 91.4%\n",
        "Validation accuracy: 78.1%"
       ]
      },
      {
       "output_type": "stream",
       "stream": "stdout",
       "text": [
        "\n",
        "Minibatch loss at step 1700: 1.752620"
       ]
      },
      {
       "output_type": "stream",
       "stream": "stdout",
       "text": [
        "\n",
        "Minibatch accuracy: 89.1%\n",
        "Validation accuracy: 82.5%"
       ]
      },
      {
       "output_type": "stream",
       "stream": "stdout",
       "text": [
        "\n",
        "Minibatch loss at step 1750: 1.590049"
       ]
      },
      {
       "output_type": "stream",
       "stream": "stdout",
       "text": [
        "\n",
        "Minibatch accuracy: 93.8%\n",
        "Validation accuracy: 77.7%"
       ]
      },
      {
       "output_type": "stream",
       "stream": "stdout",
       "text": [
        "\n",
        "Minibatch loss at step 1800: 1.819916"
       ]
      },
      {
       "output_type": "stream",
       "stream": "stdout",
       "text": [
        "\n",
        "Minibatch accuracy: 89.8%\n",
        "Validation accuracy: 80.8%"
       ]
      },
      {
       "output_type": "stream",
       "stream": "stdout",
       "text": [
        "\n",
        "Minibatch loss at step 1850: 1.674912"
       ]
      },
      {
       "output_type": "stream",
       "stream": "stdout",
       "text": [
        "\n",
        "Minibatch accuracy: 93.8%\n",
        "Validation accuracy: 82.7%"
       ]
      },
      {
       "output_type": "stream",
       "stream": "stdout",
       "text": [
        "\n",
        "Minibatch loss at step 1900: 1.693257"
       ]
      },
      {
       "output_type": "stream",
       "stream": "stdout",
       "text": [
        "\n",
        "Minibatch accuracy: 90.6%\n",
        "Validation accuracy: 79.2%"
       ]
      },
      {
       "output_type": "stream",
       "stream": "stdout",
       "text": [
        "\n",
        "Minibatch loss at step 1950: 1.720428"
       ]
      },
      {
       "output_type": "stream",
       "stream": "stdout",
       "text": [
        "\n",
        "Minibatch accuracy: 87.5%\n",
        "Validation accuracy: 77.9%"
       ]
      },
      {
       "output_type": "stream",
       "stream": "stdout",
       "text": [
        "\n",
        "Minibatch loss at step 2000: 1.882905"
       ]
      },
      {
       "output_type": "stream",
       "stream": "stdout",
       "text": [
        "\n",
        "Minibatch accuracy: 85.9%\n",
        "Validation accuracy: 81.7%"
       ]
      },
      {
       "output_type": "stream",
       "stream": "stdout",
       "text": [
        "\n",
        "Minibatch loss at step 2050: 1.740356"
       ]
      },
      {
       "output_type": "stream",
       "stream": "stdout",
       "text": [
        "\n",
        "Minibatch accuracy: 88.3%\n",
        "Validation accuracy: 78.1%"
       ]
      },
      {
       "output_type": "stream",
       "stream": "stdout",
       "text": [
        "\n",
        "Minibatch loss at step 2100: 1.739926"
       ]
      },
      {
       "output_type": "stream",
       "stream": "stdout",
       "text": [
        "\n",
        "Minibatch accuracy: 92.2%\n",
        "Validation accuracy: 80.0%"
       ]
      },
      {
       "output_type": "stream",
       "stream": "stdout",
       "text": [
        "\n",
        "Minibatch loss at step 2150: 2.149439"
       ]
      },
      {
       "output_type": "stream",
       "stream": "stdout",
       "text": [
        "\n",
        "Minibatch accuracy: 89.1%\n",
        "Validation accuracy: 72.8%"
       ]
      },
      {
       "output_type": "stream",
       "stream": "stdout",
       "text": [
        "\n",
        "Minibatch loss at step 2200: 1.561748"
       ]
      },
      {
       "output_type": "stream",
       "stream": "stdout",
       "text": [
        "\n",
        "Minibatch accuracy: 94.5%\n",
        "Validation accuracy: 81.3%"
       ]
      },
      {
       "output_type": "stream",
       "stream": "stdout",
       "text": [
        "\n",
        "Minibatch loss at step 2250: 1.553712"
       ]
      },
      {
       "output_type": "stream",
       "stream": "stdout",
       "text": [
        "\n",
        "Minibatch accuracy: 94.5%\n",
        "Validation accuracy: 80.2%"
       ]
      },
      {
       "output_type": "stream",
       "stream": "stdout",
       "text": [
        "\n",
        "Minibatch loss at step 2300: 1.598100"
       ]
      },
      {
       "output_type": "stream",
       "stream": "stdout",
       "text": [
        "\n",
        "Minibatch accuracy: 93.8%\n",
        "Validation accuracy: 83.4%"
       ]
      },
      {
       "output_type": "stream",
       "stream": "stdout",
       "text": [
        "\n",
        "Minibatch loss at step 2350: 1.589565"
       ]
      },
      {
       "output_type": "stream",
       "stream": "stdout",
       "text": [
        "\n",
        "Minibatch accuracy: 95.3%\n",
        "Validation accuracy: 82.5%"
       ]
      },
      {
       "output_type": "stream",
       "stream": "stdout",
       "text": [
        "\n",
        "Minibatch loss at step 2400: 1.597502"
       ]
      },
      {
       "output_type": "stream",
       "stream": "stdout",
       "text": [
        "\n",
        "Minibatch accuracy: 93.0%\n",
        "Validation accuracy: 83.4%"
       ]
      },
      {
       "output_type": "stream",
       "stream": "stdout",
       "text": [
        "\n",
        "Minibatch loss at step 2450: 1.621070"
       ]
      },
      {
       "output_type": "stream",
       "stream": "stdout",
       "text": [
        "\n",
        "Minibatch accuracy: 94.5%\n",
        "Validation accuracy: 80.4%"
       ]
      },
      {
       "output_type": "stream",
       "stream": "stdout",
       "text": [
        "\n",
        "Minibatch loss at step 2500: 1.640027"
       ]
      },
      {
       "output_type": "stream",
       "stream": "stdout",
       "text": [
        "\n",
        "Minibatch accuracy: 94.5%\n",
        "Validation accuracy: 82.3%"
       ]
      },
      {
       "output_type": "stream",
       "stream": "stdout",
       "text": [
        "\n",
        "Minibatch loss at step 2550: 1.640960"
       ]
      },
      {
       "output_type": "stream",
       "stream": "stdout",
       "text": [
        "\n",
        "Minibatch accuracy: 90.6%\n",
        "Validation accuracy: 81.5%"
       ]
      },
      {
       "output_type": "stream",
       "stream": "stdout",
       "text": [
        "\n",
        "Minibatch loss at step 2600: 1.628947"
       ]
      },
      {
       "output_type": "stream",
       "stream": "stdout",
       "text": [
        "\n",
        "Minibatch accuracy: 92.2%\n",
        "Validation accuracy: 80.6%"
       ]
      },
      {
       "output_type": "stream",
       "stream": "stdout",
       "text": [
        "\n",
        "Minibatch loss at step 2650: 1.538871"
       ]
      },
      {
       "output_type": "stream",
       "stream": "stdout",
       "text": [
        "\n",
        "Minibatch accuracy: 96.9%\n",
        "Validation accuracy: 81.7%"
       ]
      },
      {
       "output_type": "stream",
       "stream": "stdout",
       "text": [
        "\n",
        "Minibatch loss at step 2700: 1.537900"
       ]
      },
      {
       "output_type": "stream",
       "stream": "stdout",
       "text": [
        "\n",
        "Minibatch accuracy: 93.8%\n",
        "Validation accuracy: 79.6%"
       ]
      },
      {
       "output_type": "stream",
       "stream": "stdout",
       "text": [
        "\n",
        "Minibatch loss at step 2750: 1.509079"
       ]
      },
      {
       "output_type": "stream",
       "stream": "stdout",
       "text": [
        "\n",
        "Minibatch accuracy: 95.3%\n",
        "Validation accuracy: 79.8%"
       ]
      },
      {
       "output_type": "stream",
       "stream": "stdout",
       "text": [
        "\n",
        "Minibatch loss at step 2800: 1.681718"
       ]
      },
      {
       "output_type": "stream",
       "stream": "stdout",
       "text": [
        "\n",
        "Minibatch accuracy: 92.2%\n",
        "Validation accuracy: 82.1%"
       ]
      },
      {
       "output_type": "stream",
       "stream": "stdout",
       "text": [
        "\n",
        "Minibatch loss at step 2850: 1.556304"
       ]
      },
      {
       "output_type": "stream",
       "stream": "stdout",
       "text": [
        "\n",
        "Minibatch accuracy: 96.1%\n",
        "Validation accuracy: 82.3%"
       ]
      },
      {
       "output_type": "stream",
       "stream": "stdout",
       "text": [
        "\n",
        "Minibatch loss at step 2900: 1.939054"
       ]
      },
      {
       "output_type": "stream",
       "stream": "stdout",
       "text": [
        "\n",
        "Minibatch accuracy: 86.7%\n",
        "Validation accuracy: 82.1%"
       ]
      },
      {
       "output_type": "stream",
       "stream": "stdout",
       "text": [
        "\n",
        "Minibatch loss at step 2950: 1.512131"
       ]
      },
      {
       "output_type": "stream",
       "stream": "stdout",
       "text": [
        "\n",
        "Minibatch accuracy: 96.1%\n",
        "Validation accuracy: 82.1%"
       ]
      },
      {
       "output_type": "stream",
       "stream": "stdout",
       "text": [
        "\n",
        "Minibatch loss at step 3000: 1.487144"
       ]
      },
      {
       "output_type": "stream",
       "stream": "stdout",
       "text": [
        "\n",
        "Minibatch accuracy: 95.3%\n",
        "Validation accuracy: 80.4%"
       ]
      },
      {
       "output_type": "stream",
       "stream": "stdout",
       "text": [
        "\n",
        "Test accuracy: 81.9%"
       ]
      },
      {
       "output_type": "stream",
       "stream": "stdout",
       "text": [
        "\n",
        "[[  1.98090197e-06   9.99997973e-01]\n",
        " [  8.17692995e-01   1.82307020e-01]\n",
        " [  7.62734655e-03   9.92372632e-01]\n",
        " [  9.99999523e-01   4.92892127e-07]\n",
        " [  6.01474009e-02   9.39852536e-01]\n",
        " [  9.99963999e-01   3.60298509e-05]\n",
        " [  1.00000000e+00   2.48084084e-12]\n",
        " [  1.72601740e-05   9.99982715e-01]\n",
        " [  9.27336514e-03   9.90726590e-01]\n",
        " [  8.18323314e-01   1.81676626e-01]\n",
        " [  3.73886712e-02   9.62611318e-01]\n",
        " [  1.67134998e-03   9.98328626e-01]\n",
        " [  4.14782614e-01   5.85217416e-01]\n",
        " [  9.92713630e-01   7.28639401e-03]\n",
        " [  1.05255388e-01   8.94744575e-01]\n",
        " [  9.80076253e-01   1.99237410e-02]\n",
        " [  2.24782415e-02   9.77521777e-01]\n",
        " [  1.00000000e+00   3.93953203e-10]\n",
        " [  9.99450982e-01   5.49072691e-04]\n",
        " [  9.97141421e-01   2.85852025e-03]\n",
        " [  6.20046616e-01   3.79953384e-01]\n",
        " [  9.99999642e-01   3.38150471e-07]\n",
        " [  9.99996662e-01   3.36119570e-06]\n",
        " [  2.25834424e-06   9.99997735e-01]\n",
        " [  2.50308332e-03   9.97496903e-01]\n",
        " [  1.39520751e-07   9.99999881e-01]\n",
        " [  3.80259007e-01   6.19740963e-01]\n",
        " [  9.99994755e-01   5.28278179e-06]\n",
        " [  9.51534271e-01   4.84658033e-02]\n",
        " [  8.00041676e-01   1.99958324e-01]\n",
        " [  1.00000000e+00   1.29331035e-09]\n",
        " [  1.27354369e-01   8.72645617e-01]\n",
        " [  4.34018880e-01   5.65981150e-01]\n",
        " [  8.72696996e-01   1.27303049e-01]\n",
        " [  9.99975920e-01   2.41372509e-05]\n",
        " [  9.94730353e-01   5.26963314e-03]\n",
        " [  8.00630562e-10   1.00000000e+00]\n",
        " [  9.99287546e-01   7.12465961e-04]\n",
        " [  9.34576154e-01   6.54238313e-02]\n",
        " [  9.31022108e-01   6.89778998e-02]\n",
        " [  2.75431304e-08   1.00000000e+00]\n",
        " [  2.85752863e-03   9.97142494e-01]\n",
        " [  9.35152948e-01   6.48470595e-02]\n",
        " [  2.54915903e-06   9.99997497e-01]\n",
        " [  9.99583423e-01   4.16567724e-04]\n",
        " [  9.99978065e-01   2.19023805e-05]\n",
        " [  6.40724380e-08   9.99999881e-01]\n",
        " [  7.74070501e-01   2.25929514e-01]\n",
        " [  8.26700211e-01   1.73299789e-01]\n",
        " [  4.84339178e-01   5.15660822e-01]\n",
        " [  3.07350751e-06   9.99996901e-01]\n",
        " [  6.23660207e-01   3.76339734e-01]\n",
        " [  8.66569638e-01   1.33430347e-01]\n",
        " [  1.02337122e-01   8.97662938e-01]\n",
        " [  9.99998689e-01   1.25182339e-06]\n",
        " [  2.10140627e-02   9.78985906e-01]\n",
        " [  2.51560267e-02   9.74843919e-01]\n",
        " [  9.99980927e-01   1.91147665e-05]\n",
        " [  9.99999762e-01   2.42966763e-07]\n",
        " [  9.99983788e-01   1.62321339e-05]\n",
        " [  2.33830542e-06   9.99997616e-01]\n",
        " [  1.68437161e-03   9.98315692e-01]\n",
        " [  4.15150105e-04   9.99584854e-01]\n",
        " [  2.68929707e-05   9.99973059e-01]\n",
        " [  2.32980195e-02   9.76701975e-01]\n",
        " [  9.95257080e-01   4.74292645e-03]\n",
        " [  1.00000000e+00   3.35131123e-09]\n",
        " [  4.77559328e-01   5.22440672e-01]\n",
        " [  1.73049662e-02   9.82695043e-01]\n",
        " [  9.99998093e-01   1.89218508e-06]\n",
        " [  4.84494772e-03   9.95155096e-01]\n",
        " [  5.25768511e-02   9.47423160e-01]\n",
        " [  9.73961771e-01   2.60382630e-02]\n",
        " [  7.03949248e-03   9.92960513e-01]\n",
        " [  8.74971211e-01   1.25028834e-01]\n",
        " [  2.79013310e-02   9.72098708e-01]\n",
        " [  9.98794198e-01   1.20573246e-03]\n",
        " [  9.96595442e-01   3.40454513e-03]\n",
        " [  9.99961376e-01   3.86410175e-05]\n",
        " [  2.31605140e-04   9.99768436e-01]\n",
        " [  9.76499617e-01   2.35004462e-02]\n",
        " [  9.99997258e-01   2.75037883e-06]\n",
        " [  2.04204217e-01   7.95795739e-01]\n",
        " [  9.88074481e-01   1.19254906e-02]\n",
        " [  9.99908447e-01   9.14909397e-05]\n",
        " [  1.30604729e-01   8.69395256e-01]\n",
        " [  1.00000000e+00   3.88613799e-08]\n",
        " [  2.65894429e-04   9.99734104e-01]\n",
        " [  9.99061525e-01   9.38495970e-04]\n",
        " [  1.58884563e-02   9.84111547e-01]\n",
        " [  1.38649772e-10   1.00000000e+00]\n",
        " [  9.99999881e-01   1.18269107e-07]\n",
        " [  1.00000000e+00   5.94787497e-10]\n",
        " [  4.62745130e-03   9.95372593e-01]\n",
        " [  2.38841530e-02   9.76115882e-01]\n",
        " [  2.62238562e-01   7.37761438e-01]\n",
        " [  9.99999166e-01   8.80465791e-07]\n",
        " [  9.99847174e-01   1.52857523e-04]\n",
        " [  9.99863625e-01   1.36385730e-04]\n",
        " [  1.41952649e-01   8.58047366e-01]\n",
        " [  4.06238921e-02   9.59376097e-01]\n",
        " [  3.55169848e-02   9.64482963e-01]\n",
        " [  9.99996662e-01   3.32457512e-06]\n",
        " [  9.87766147e-01   1.22338692e-02]\n",
        " [  5.01223877e-02   9.49877679e-01]\n",
        " [  9.99938726e-01   6.12263029e-05]\n",
        " [  5.38382947e-01   4.61617082e-01]\n",
        " [  1.82144009e-02   9.81785595e-01]\n",
        " [  7.65520155e-01   2.34479815e-01]\n",
        " [  3.00622404e-01   6.99377596e-01]\n",
        " [  4.56095427e-01   5.43904543e-01]\n",
        " [  4.98031932e-06   9.99994993e-01]\n",
        " [  7.04595268e-01   2.95404762e-01]\n",
        " [  7.41955563e-02   9.25804377e-01]\n",
        " [  6.02393329e-01   3.97606701e-01]\n",
        " [  2.31509045e-01   7.68490911e-01]\n",
        " [  3.98399800e-01   6.01600230e-01]\n",
        " [  1.00000000e+00   1.11609531e-08]\n",
        " [  2.72437155e-01   7.27562904e-01]\n",
        " [  9.99798119e-01   2.01937393e-04]\n",
        " [  9.31299329e-01   6.87006563e-02]\n",
        " [  1.00000000e+00   5.32712763e-10]\n",
        " [  9.96829450e-01   3.17057548e-03]\n",
        " [  9.99878645e-01   1.21298282e-04]\n",
        " [  1.36072259e-07   9.99999881e-01]\n",
        " [  3.01299859e-02   9.69869971e-01]\n",
        " [  6.60368960e-06   9.99993443e-01]\n",
        " [  2.06295431e-01   7.93704569e-01]\n",
        " [  5.60804456e-02   9.43919539e-01]\n",
        " [  5.11795402e-01   4.88204569e-01]\n",
        " [  9.92420018e-01   7.58001348e-03]\n",
        " [  7.01889455e-01   2.98110574e-01]\n",
        " [  1.39081152e-04   9.99860883e-01]\n",
        " [  1.17422044e-02   9.88257825e-01]\n",
        " [  1.97057193e-03   9.98029411e-01]\n",
        " [  9.67130244e-01   3.28698196e-02]\n",
        " [  9.99994874e-01   5.09234951e-06]\n",
        " [  4.98040998e-03   9.95019555e-01]\n",
        " [  7.74465443e-05   9.99922514e-01]\n",
        " [  9.99995351e-01   4.61649734e-06]\n",
        " [  9.98506725e-01   1.49321475e-03]\n",
        " [  9.99954939e-01   4.50533989e-05]\n",
        " [  9.89753604e-01   1.02463858e-02]\n",
        " [  1.22812262e-05   9.99987721e-01]\n",
        " [  3.72950948e-04   9.99626994e-01]\n",
        " [  9.34106827e-01   6.58931360e-02]\n",
        " [  4.93266061e-03   9.95067358e-01]\n",
        " [  9.97734427e-01   2.26554624e-03]\n",
        " [  1.79048977e-04   9.99821007e-01]\n",
        " [  2.43528397e-03   9.97564673e-01]\n",
        " [  8.01310036e-03   9.91986871e-01]\n",
        " [  6.24611735e-01   3.75388265e-01]\n",
        " [  9.99137282e-01   8.62660701e-04]\n",
        " [  1.71535313e-02   9.82846439e-01]\n",
        " [  9.39126790e-01   6.08731955e-02]\n",
        " [  7.86337111e-08   9.99999881e-01]\n",
        " [  5.59714437e-03   9.94402826e-01]\n",
        " [  1.64282857e-04   9.99835730e-01]\n",
        " [  6.95984770e-10   1.00000000e+00]\n",
        " [  9.99964595e-01   3.54310469e-05]\n",
        " [  1.07236132e-02   9.89276409e-01]\n",
        " [  9.44596767e-01   5.54031581e-02]\n",
        " [  9.63837564e-01   3.61623876e-02]\n",
        " [  2.35788082e-03   9.97642100e-01]\n",
        " [  2.91629791e-01   7.08370209e-01]\n",
        " [  4.85428754e-04   9.99514580e-01]\n",
        " [  4.80475366e-01   5.19524693e-01]\n",
        " [  8.39043821e-07   9.99999166e-01]\n",
        " [  1.94709981e-09   1.00000000e+00]\n",
        " [  4.51384872e-01   5.48615158e-01]\n",
        " [  2.22624719e-01   7.77375281e-01]\n",
        " [  3.71711999e-01   6.28288031e-01]\n",
        " [  2.94135738e-04   9.99705851e-01]\n",
        " [  7.52881169e-01   2.47118875e-01]\n",
        " [  9.97882545e-01   2.11739843e-03]\n",
        " [  4.22298878e-01   5.77701151e-01]\n",
        " [  9.99177396e-01   8.22552829e-04]\n",
        " [  9.99615192e-01   3.84832296e-04]\n",
        " [  7.20704794e-02   9.27929521e-01]\n",
        " [  9.75144655e-02   9.02485609e-01]\n",
        " [  9.99991655e-01   8.32348178e-06]\n",
        " [  3.88779445e-04   9.99611199e-01]\n",
        " [  8.63541484e-01   1.36458471e-01]\n",
        " [  3.74729991e-01   6.25270069e-01]\n",
        " [  5.60206831e-01   4.39793110e-01]\n",
        " [  1.00000000e+00   2.93213500e-12]\n",
        " [  9.99896169e-01   1.03795697e-04]\n",
        " [  8.12721193e-01   1.87278792e-01]\n",
        " [  8.50681961e-02   9.14931774e-01]\n",
        " [  3.04972649e-01   6.95027351e-01]\n",
        " [  5.10634040e-04   9.99489307e-01]\n",
        " [  9.98182416e-01   1.81757193e-03]\n",
        " [  5.00605106e-01   4.99394894e-01]\n",
        " [  1.99739084e-01   8.00260961e-01]\n",
        " [  2.64525224e-05   9.99973536e-01]\n",
        " [  9.98909593e-01   1.09036651e-03]\n",
        " [  2.90296543e-02   9.70970333e-01]\n",
        " [  1.00000000e+00   1.71600139e-08]\n",
        " [  2.49918612e-05   9.99974966e-01]\n",
        " [  2.08570491e-05   9.99979138e-01]\n",
        " [  2.90808111e-01   7.09191859e-01]\n",
        " [  3.49867414e-03   9.96501327e-01]\n",
        " [  9.99989271e-01   1.07330397e-05]\n",
        " [  9.78960752e-01   2.10392755e-02]\n",
        " [  9.84083235e-01   1.59167834e-02]\n",
        " [  4.29952110e-04   9.99570072e-01]\n",
        " [  2.00515427e-03   9.97994900e-01]\n",
        " [  5.61554816e-06   9.99994397e-01]\n",
        " [  8.35392598e-07   9.99999166e-01]\n",
        " [  1.80738803e-03   9.98192608e-01]\n",
        " [  9.99482214e-01   5.17762848e-04]\n",
        " [  6.62968606e-02   9.33703065e-01]\n",
        " [  9.96384025e-01   3.61593417e-03]\n",
        " [  9.99994516e-01   5.51963649e-06]\n",
        " [  9.99190509e-01   8.09478574e-04]\n",
        " [  7.03000367e-01   2.96999693e-01]\n",
        " [  9.09623802e-01   9.03761610e-02]\n",
        " [  6.86617613e-01   3.13382357e-01]\n",
        " [  1.52414059e-02   9.84758615e-01]\n",
        " [  7.84334838e-01   2.15665162e-01]\n",
        " [  3.35761718e-02   9.66423810e-01]\n",
        " [  9.34658766e-01   6.53412342e-02]\n",
        " [  9.88355398e-01   1.16446046e-02]\n",
        " [  9.80811059e-01   1.91890169e-02]\n",
        " [  8.61788929e-01   1.38211027e-01]\n",
        " [  9.54675138e-01   4.53249179e-02]\n",
        " [  9.99988437e-01   1.16174315e-05]\n",
        " [  9.99999523e-01   5.35230981e-07]\n",
        " [  5.90338528e-01   4.09661442e-01]\n",
        " [  1.20981440e-01   8.79018605e-01]\n",
        " [  1.00000000e+00   5.09754704e-11]\n",
        " [  9.90859568e-01   9.14049894e-03]\n",
        " [  1.60914566e-03   9.98390913e-01]\n",
        " [  2.71447569e-01   7.28552401e-01]\n",
        " [  9.98051286e-01   1.94871391e-03]\n",
        " [  4.21756067e-06   9.99995828e-01]\n",
        " [  4.12681937e-01   5.87318063e-01]\n",
        " [  9.99816954e-01   1.83072902e-04]\n",
        " [  9.99977231e-01   2.27138171e-05]\n",
        " [  8.11304748e-01   1.88695252e-01]\n",
        " [  2.41419839e-04   9.99758542e-01]\n",
        " [  3.51604453e-04   9.99648333e-01]\n",
        " [  9.77705002e-01   2.22950187e-02]\n",
        " [  4.76442635e-01   5.23557365e-01]\n",
        " [  7.37562537e-01   2.62437463e-01]\n",
        " [  1.47759840e-01   8.52240205e-01]\n",
        " [  9.01693851e-03   9.90983009e-01]\n",
        " [  4.11813289e-06   9.99995828e-01]\n",
        " [  6.07081473e-01   3.92918527e-01]\n",
        " [  6.11004746e-03   9.93889928e-01]\n",
        " [  9.99651909e-01   3.48089816e-04]\n",
        " [  9.99986529e-01   1.34622114e-05]\n",
        " [  9.81308997e-01   1.86909698e-02]\n",
        " [  1.00000000e+00   5.53357027e-10]\n",
        " [  9.98886764e-01   1.11329334e-03]\n",
        " [  5.79718113e-01   4.20281917e-01]\n",
        " [  9.99392629e-01   6.07410679e-04]\n",
        " [  9.41294420e-04   9.99058664e-01]\n",
        " [  1.62132521e-04   9.99837875e-01]\n",
        " [  9.64167062e-03   9.90358293e-01]\n",
        " [  9.99999642e-01   3.03927180e-07]\n",
        " [  9.08779085e-01   9.12209153e-02]\n",
        " [  9.99998927e-01   1.12263058e-06]\n",
        " [  1.06749870e-02   9.89324987e-01]\n",
        " [  3.49718583e-08   1.00000000e+00]\n",
        " [  1.35890722e-01   8.64109278e-01]\n",
        " [  2.61120313e-05   9.99973893e-01]\n",
        " [  7.48292804e-01   2.51707196e-01]\n",
        " [  3.27734724e-02   9.67226565e-01]\n",
        " [  2.63656781e-04   9.99736369e-01]\n",
        " [  8.24850380e-01   1.75149590e-01]\n",
        " [  1.27112046e-01   8.72887969e-01]\n",
        " [  6.73557818e-02   9.32644248e-01]\n",
        " [  9.99053180e-01   9.46759828e-04]\n",
        " [  1.16186284e-05   9.99988437e-01]\n",
        " [  6.52438879e-01   3.47561121e-01]\n",
        " [  1.53299936e-06   9.99998450e-01]\n",
        " [  9.99930859e-01   6.91208406e-05]\n",
        " [  6.92732458e-04   9.99307275e-01]\n",
        " [  1.45320743e-02   9.85467851e-01]\n",
        " [  6.23875414e-04   9.99376118e-01]\n",
        " [  9.99754488e-01   2.45567498e-04]\n",
        " [  9.99592841e-01   4.07144573e-04]\n",
        " [  9.99999642e-01   3.43529962e-07]\n",
        " [  9.28790774e-03   9.90712106e-01]\n",
        " [  5.97769558e-01   4.02230471e-01]\n",
        " [  1.96876284e-02   9.80312347e-01]\n",
        " [  9.94162500e-01   5.83752757e-03]\n",
        " [  2.79471113e-08   1.00000000e+00]\n",
        " [  9.99999642e-01   3.48133369e-07]\n",
        " [  9.99914885e-01   8.50703145e-05]\n",
        " [  1.00000000e+00   1.66989278e-09]\n",
        " [  5.65503833e-05   9.99943495e-01]\n",
        " [  6.06584907e-01   3.93415064e-01]\n",
        " [  9.93752182e-01   6.24779006e-03]\n",
        " [  1.35216683e-01   8.64783287e-01]\n",
        " [  8.18661920e-06   9.99991775e-01]\n",
        " [  9.53609049e-01   4.63909805e-02]\n",
        " [  4.78603488e-06   9.99995232e-01]\n",
        " [  1.78896915e-03   9.98211026e-01]\n",
        " [  5.82976043e-01   4.17023987e-01]\n",
        " [  9.99999166e-01   7.90831962e-07]\n",
        " [  9.99999762e-01   2.88906563e-07]\n",
        " [  4.98767260e-12   1.00000000e+00]\n",
        " [  2.27832552e-02   9.77216721e-01]\n",
        " [  2.03151871e-02   9.79684830e-01]\n",
        " [  1.49644032e-01   8.50355983e-01]\n",
        " [  9.99430120e-01   5.69808471e-04]\n",
        " [  7.48681247e-01   2.51318812e-01]\n",
        " [  9.99997139e-01   2.86008571e-06]\n",
        " [  2.91277058e-02   9.70872223e-01]\n",
        " [  5.33055842e-01   4.66944158e-01]\n",
        " [  9.99993324e-01   6.73178329e-06]\n",
        " [  8.59050779e-05   9.99914050e-01]\n",
        " [  2.06873437e-06   9.99997973e-01]\n",
        " [  2.80558225e-02   9.71944153e-01]\n",
        " [  2.80032459e-08   1.00000000e+00]\n",
        " [  1.01248669e-02   9.89875138e-01]\n",
        " [  1.90315855e-04   9.99809682e-01]\n",
        " [  9.97592270e-01   2.40770774e-03]\n",
        " [  1.98459742e-03   9.98015404e-01]\n",
        " [  9.98275280e-01   1.72471919e-03]\n",
        " [  9.99999881e-01   8.58069455e-08]\n",
        " [  9.57421482e-01   4.25785109e-02]\n",
        " [  1.59950238e-02   9.84004974e-01]\n",
        " [  8.96460414e-02   9.10354018e-01]\n",
        " [  9.99969006e-01   3.09594834e-05]\n",
        " [  9.04138833e-02   9.09586132e-01]\n",
        " [  7.66230980e-03   9.92337763e-01]\n",
        " [  8.86242166e-02   9.11375761e-01]\n",
        " [  9.95904982e-01   4.09506494e-03]\n",
        " [  8.63318980e-01   1.36681080e-01]\n",
        " [  5.26029337e-03   9.94739711e-01]\n",
        " [  9.23800375e-03   9.90761936e-01]\n",
        " [  9.85906601e-01   1.40934102e-02]\n",
        " [  2.40101770e-04   9.99759853e-01]\n",
        " [  8.41940105e-01   1.58059865e-01]\n",
        " [  1.14889972e-05   9.99988556e-01]\n",
        " [  9.98992741e-01   1.00726681e-03]\n",
        " [  8.22040092e-05   9.99917746e-01]\n",
        " [  8.09654477e-04   9.99190390e-01]\n",
        " [  1.39740479e-07   9.99999881e-01]\n",
        " [  9.99982476e-01   1.74878605e-05]\n",
        " [  5.16895831e-01   4.83104169e-01]\n",
        " [  5.91564655e-01   4.08435345e-01]\n",
        " [  9.99998689e-01   1.29772889e-06]\n",
        " [  9.57620025e-01   4.23799008e-02]\n",
        " [  4.98950422e-01   5.01049578e-01]\n",
        " [  7.94964433e-01   2.05035567e-01]\n",
        " [  9.94159937e-01   5.84005471e-03]\n",
        " [  3.87915825e-05   9.99961257e-01]\n",
        " [  1.25625491e-01   8.74374509e-01]\n",
        " [  7.16946961e-05   9.99928355e-01]\n",
        " [  3.95882010e-01   6.04117930e-01]\n",
        " [  9.95523810e-01   4.47626552e-03]\n",
        " [  2.02572737e-02   9.79742706e-01]\n",
        " [  9.99304056e-01   6.95881317e-04]\n",
        " [  9.99932647e-01   6.73814211e-05]\n",
        " [  9.80429173e-01   1.95707828e-02]\n",
        " [  9.87276318e-04   9.99012709e-01]\n",
        " [  9.95252967e-01   4.74708108e-03]\n",
        " [  1.13976099e-01   8.86023939e-01]\n",
        " [  1.92192674e-01   8.07807326e-01]\n",
        " [  1.07358850e-03   9.98926342e-01]\n",
        " [  1.44340890e-02   9.85565960e-01]\n",
        " [  9.99961853e-01   3.81378231e-05]\n",
        " [  1.54491936e-04   9.99845505e-01]\n",
        " [  9.53593016e-01   4.64069806e-02]\n",
        " [  9.10122395e-01   8.98776054e-02]\n",
        " [  4.83743715e-05   9.99951601e-01]\n",
        " [  9.99966979e-01   3.30111507e-05]\n",
        " [  9.99977469e-01   2.25667391e-05]\n",
        " [  2.55221039e-01   7.44778991e-01]\n",
        " [  2.99323117e-04   9.99700665e-01]\n",
        " [  3.69419344e-03   9.96305823e-01]\n",
        " [  9.99997973e-01   2.03632362e-06]\n",
        " [  9.99220133e-01   7.79857510e-04]\n",
        " [  9.99708116e-01   2.91834876e-04]\n",
        " [  8.68920982e-03   9.91310835e-01]\n",
        " [  1.50874245e-03   9.98491287e-01]\n",
        " [  9.64771688e-01   3.52282934e-02]\n",
        " [  1.71512525e-07   9.99999881e-01]\n",
        " [  6.08749747e-01   3.91250283e-01]\n",
        " [  9.31374147e-04   9.99068677e-01]\n",
        " [  9.99966979e-01   3.29667928e-05]\n",
        " [  9.99946594e-01   5.34124229e-05]\n",
        " [  1.63679928e-01   8.36320043e-01]\n",
        " [  9.50127900e-01   4.98721413e-02]\n",
        " [  1.00000000e+00   1.36461675e-10]\n",
        " [  5.61673517e-07   9.99999404e-01]\n",
        " [  1.87497318e-03   9.98125017e-01]\n",
        " [  7.38167882e-01   2.61832058e-01]\n",
        " [  9.99909997e-01   8.99471415e-05]\n",
        " [  9.99938011e-01   6.19745624e-05]\n",
        " [  9.99785602e-01   2.14454616e-04]\n",
        " [  1.65718392e-01   8.34281623e-01]\n",
        " [  9.99996543e-01   3.48176604e-06]\n",
        " [  2.51079127e-02   9.74892080e-01]\n",
        " [  1.98431909e-01   8.01568091e-01]\n",
        " [  1.65889449e-02   9.83411014e-01]\n",
        " [  1.68857907e-04   9.99831080e-01]\n",
        " [  9.95342851e-01   4.65716049e-03]\n",
        " [  3.41095388e-01   6.58904612e-01]\n",
        " [  7.13086827e-03   9.92869079e-01]\n",
        " [  2.28686422e-01   7.71313608e-01]\n",
        " [  9.93518412e-01   6.48154132e-03]\n",
        " [  9.99811471e-01   1.88601349e-04]\n",
        " [  6.31491244e-02   9.36850905e-01]\n",
        " [  7.22350421e-07   9.99999285e-01]\n",
        " [  1.02130716e-05   9.99989748e-01]\n",
        " [  7.27586029e-03   9.92724121e-01]\n",
        " [  9.89788413e-01   1.02116521e-02]\n",
        " [  1.32361180e-04   9.99867678e-01]\n",
        " [  9.33600605e-01   6.63993508e-02]\n",
        " [  9.84947383e-01   1.50525365e-02]\n",
        " [  3.55161190e-01   6.44838810e-01]\n",
        " [  1.41531564e-04   9.99858499e-01]\n",
        " [  9.99988794e-01   1.12024345e-05]\n",
        " [  9.44861591e-01   5.51384427e-02]\n",
        " [  9.99883294e-01   1.16666532e-04]\n",
        " [  9.99772489e-01   2.27539640e-04]\n",
        " [  1.00000000e+00   8.36289538e-10]\n",
        " [  9.68879938e-01   3.11200768e-02]\n",
        " [  9.96223330e-01   3.77670326e-03]\n",
        " [  1.36963353e-02   9.86303627e-01]\n",
        " [  1.52881116e-01   8.47118855e-01]\n",
        " [  4.99792278e-01   5.00207722e-01]\n",
        " [  9.20056045e-01   7.99439773e-02]\n",
        " [  1.28765449e-01   8.71234596e-01]\n",
        " [  1.00000000e+00   4.72871253e-09]\n",
        " [  5.83629727e-01   4.16370273e-01]\n",
        " [  6.43515289e-02   9.35648501e-01]\n",
        " [  9.22671795e-01   7.73282573e-02]\n",
        " [  1.51190860e-03   9.98488069e-01]\n",
        " [  9.36861992e-01   6.31380603e-02]\n",
        " [  3.34157534e-02   9.66584265e-01]\n",
        " [  9.76330161e-01   2.36698370e-02]\n",
        " [  3.25400720e-06   9.99996781e-01]\n",
        " [  9.99999881e-01   1.51030378e-07]\n",
        " [  9.99997497e-01   2.45442425e-06]\n",
        " [  9.95497942e-01   4.50213347e-03]\n",
        " [  3.44926193e-05   9.99965549e-01]\n",
        " [  2.45571837e-01   7.54428148e-01]\n",
        " [  9.84591246e-01   1.54087674e-02]\n",
        " [  6.50833920e-02   9.34916556e-01]\n",
        " [  9.99855518e-01   1.44443067e-04]\n",
        " [  9.99450982e-01   5.48987882e-04]\n",
        " [  9.65217292e-01   3.47827487e-02]\n",
        " [  8.52993429e-02   9.14700627e-01]\n",
        " [  9.99388576e-01   6.11464435e-04]\n",
        " [  7.62448072e-01   2.37551942e-01]\n",
        " [  9.99521613e-01   4.78343747e-04]\n",
        " [  9.59928870e-01   4.00711969e-02]\n",
        " [  8.71156394e-01   1.28843576e-01]\n",
        " [  9.99999523e-01   5.36021730e-07]\n",
        " [  7.92240143e-01   2.07759857e-01]\n",
        " [  9.19428840e-02   9.08057094e-01]\n",
        " [  5.56912459e-03   9.94430840e-01]\n",
        " [  1.00000000e+00   3.18227471e-08]\n",
        " [  5.06359059e-03   9.94936347e-01]\n",
        " [  8.00778091e-01   1.99221924e-01]\n",
        " [  3.37072134e-01   6.62927866e-01]\n",
        " [  4.22687382e-01   5.77312589e-01]\n",
        " [  9.99996543e-01   3.46683282e-06]\n",
        " [  1.16580121e-01   8.83419871e-01]\n",
        " [  2.43844534e-03   9.97561574e-01]\n",
        " [  1.70635939e-01   8.29364061e-01]\n",
        " [  2.85998802e-04   9.99713957e-01]\n",
        " [  7.94416368e-01   2.05583662e-01]\n",
        " [  2.80617833e-01   7.19382226e-01]\n",
        " [  9.96653676e-01   3.34630837e-03]\n",
        " [  7.68477796e-03   9.92315173e-01]\n",
        " [  7.32068241e-01   2.67931789e-01]\n",
        " [  3.08371847e-04   9.99691606e-01]\n",
        " [  5.58522579e-08   1.00000000e+00]\n",
        " [  1.14105070e-07   9.99999881e-01]]"
       ]
      },
      {
       "output_type": "stream",
       "stream": "stdout",
       "text": [
        "\n",
        "[[0 1]\n",
        " [1 0]\n",
        " [0 1]\n",
        " [1 0]\n",
        " [0 1]\n",
        " [1 0]\n",
        " [1 0]\n",
        " [0 1]\n",
        " [0 1]\n",
        " [1 0]\n",
        " [0 1]\n",
        " [0 1]\n",
        " [1 0]\n",
        " [1 0]\n",
        " [0 1]\n",
        " [1 0]\n",
        " [1 0]\n",
        " [1 0]\n",
        " [1 0]\n",
        " [1 0]\n",
        " [1 0]\n",
        " [1 0]\n",
        " [1 0]\n",
        " [0 1]\n",
        " [0 1]\n",
        " [0 1]\n",
        " [0 1]\n",
        " [1 0]\n",
        " [0 1]\n",
        " [1 0]\n",
        " [1 0]\n",
        " [1 0]\n",
        " [1 0]\n",
        " [1 0]\n",
        " [1 0]\n",
        " [1 0]\n",
        " [0 1]\n",
        " [1 0]\n",
        " [1 0]\n",
        " [1 0]\n",
        " [0 1]\n",
        " [0 1]\n",
        " [1 0]\n",
        " [0 1]\n",
        " [1 0]\n",
        " [1 0]\n",
        " [0 1]\n",
        " [0 1]\n",
        " [1 0]\n",
        " [1 0]\n",
        " [0 1]\n",
        " [0 1]\n",
        " [1 0]\n",
        " [0 1]\n",
        " [1 0]\n",
        " [0 1]\n",
        " [0 1]\n",
        " [1 0]\n",
        " [1 0]\n",
        " [1 0]\n",
        " [1 0]\n",
        " [0 1]\n",
        " [0 1]\n",
        " [0 1]\n",
        " [1 0]\n",
        " [1 0]\n",
        " [1 0]\n",
        " [1 0]\n",
        " [1 0]\n",
        " [1 0]\n",
        " [0 1]\n",
        " [1 0]\n",
        " [1 0]\n",
        " [0 1]\n",
        " [0 1]\n",
        " [0 1]\n",
        " [1 0]\n",
        " [1 0]\n",
        " [1 0]\n",
        " [0 1]\n",
        " [0 1]\n",
        " [1 0]\n",
        " [1 0]\n",
        " [1 0]\n",
        " [1 0]\n",
        " [0 1]\n",
        " [0 1]\n",
        " [0 1]\n",
        " [1 0]\n",
        " [1 0]\n",
        " [0 1]\n",
        " [0 1]\n",
        " [0 1]\n",
        " [0 1]\n",
        " [1 0]\n",
        " [1 0]\n",
        " [1 0]\n",
        " [1 0]\n",
        " [1 0]\n",
        " [1 0]\n",
        " [0 1]\n",
        " [0 1]\n",
        " [1 0]\n",
        " [1 0]\n",
        " [0 1]\n",
        " [1 0]\n",
        " [1 0]\n",
        " [0 1]\n",
        " [1 0]\n",
        " [0 1]\n",
        " [1 0]\n",
        " [0 1]\n",
        " [1 0]\n",
        " [0 1]\n",
        " [1 0]\n",
        " [0 1]\n",
        " [1 0]\n",
        " [1 0]\n",
        " [0 1]\n",
        " [1 0]\n",
        " [1 0]\n",
        " [1 0]\n",
        " [1 0]\n",
        " [1 0]\n",
        " [0 1]\n",
        " [0 1]\n",
        " [1 0]\n",
        " [0 1]\n",
        " [0 1]\n",
        " [1 0]\n",
        " [1 0]\n",
        " [1 0]\n",
        " [0 1]\n",
        " [0 1]\n",
        " [0 1]\n",
        " [1 0]\n",
        " [1 0]\n",
        " [0 1]\n",
        " [0 1]\n",
        " [1 0]\n",
        " [1 0]\n",
        " [0 1]\n",
        " [1 0]\n",
        " [1 0]\n",
        " [0 1]\n",
        " [1 0]\n",
        " [0 1]\n",
        " [1 0]\n",
        " [0 1]\n",
        " [0 1]\n",
        " [0 1]\n",
        " [1 0]\n",
        " [1 0]\n",
        " [0 1]\n",
        " [1 0]\n",
        " [0 1]\n",
        " [0 1]\n",
        " [0 1]\n",
        " [0 1]\n",
        " [1 0]\n",
        " [1 0]\n",
        " [0 1]\n",
        " [1 0]\n",
        " [0 1]\n",
        " [1 0]\n",
        " [0 1]\n",
        " [1 0]\n",
        " [0 1]\n",
        " [0 1]\n",
        " [1 0]\n",
        " [1 0]\n",
        " [0 1]\n",
        " [0 1]\n",
        " [0 1]\n",
        " [1 0]\n",
        " [1 0]\n",
        " [1 0]\n",
        " [1 0]\n",
        " [0 1]\n",
        " [1 0]\n",
        " [1 0]\n",
        " [0 1]\n",
        " [1 0]\n",
        " [1 0]\n",
        " [0 1]\n",
        " [1 0]\n",
        " [1 0]\n",
        " [1 0]\n",
        " [0 1]\n",
        " [1 0]\n",
        " [0 1]\n",
        " [1 0]\n",
        " [1 0]\n",
        " [0 1]\n",
        " [0 1]\n",
        " [1 0]\n",
        " [0 1]\n",
        " [1 0]\n",
        " [0 1]\n",
        " [0 1]\n",
        " [1 0]\n",
        " [0 1]\n",
        " [0 1]\n",
        " [1 0]\n",
        " [1 0]\n",
        " [0 1]\n",
        " [0 1]\n",
        " [0 1]\n",
        " [1 0]\n",
        " [0 1]\n",
        " [1 0]\n",
        " [0 1]\n",
        " [1 0]\n",
        " [1 0]\n",
        " [1 0]\n",
        " [1 0]\n",
        " [1 0]\n",
        " [0 1]\n",
        " [0 1]\n",
        " [1 0]\n",
        " [0 1]\n",
        " [0 1]\n",
        " [1 0]\n",
        " [1 0]\n",
        " [1 0]\n",
        " [0 1]\n",
        " [1 0]\n",
        " [1 0]\n",
        " [0 1]\n",
        " [0 1]\n",
        " [1 0]\n",
        " [1 0]\n",
        " [0 1]\n",
        " [0 1]\n",
        " [1 0]\n",
        " [0 1]\n",
        " [0 1]\n",
        " [1 0]\n",
        " [1 0]\n",
        " [1 0]\n",
        " [1 0]\n",
        " [0 1]\n",
        " [1 0]\n",
        " [0 1]\n",
        " [1 0]\n",
        " [0 1]\n",
        " [0 1]\n",
        " [1 0]\n",
        " [1 0]\n",
        " [0 1]\n",
        " [0 1]\n",
        " [1 0]\n",
        " [1 0]\n",
        " [1 0]\n",
        " [1 0]\n",
        " [1 0]\n",
        " [0 1]\n",
        " [0 1]\n",
        " [0 1]\n",
        " [0 1]\n",
        " [1 0]\n",
        " [1 0]\n",
        " [1 0]\n",
        " [1 0]\n",
        " [0 1]\n",
        " [0 1]\n",
        " [0 1]\n",
        " [0 1]\n",
        " [0 1]\n",
        " [0 1]\n",
        " [0 1]\n",
        " [0 1]\n",
        " [1 0]\n",
        " [1 0]\n",
        " [0 1]\n",
        " [1 0]\n",
        " [0 1]\n",
        " [1 0]\n",
        " [0 1]\n",
        " [0 1]\n",
        " [0 1]\n",
        " [1 0]\n",
        " [1 0]\n",
        " [1 0]\n",
        " [0 1]\n",
        " [0 1]\n",
        " [0 1]\n",
        " [1 0]\n",
        " [0 1]\n",
        " [1 0]\n",
        " [1 0]\n",
        " [1 0]\n",
        " [0 1]\n",
        " [0 1]\n",
        " [1 0]\n",
        " [0 1]\n",
        " [0 1]\n",
        " [1 0]\n",
        " [0 1]\n",
        " [0 1]\n",
        " [0 1]\n",
        " [1 0]\n",
        " [1 0]\n",
        " [0 1]\n",
        " [0 1]\n",
        " [0 1]\n",
        " [0 1]\n",
        " [1 0]\n",
        " [1 0]\n",
        " [1 0]\n",
        " [0 1]\n",
        " [1 0]\n",
        " [1 0]\n",
        " [0 1]\n",
        " [0 1]\n",
        " [0 1]\n",
        " [1 0]\n",
        " [0 1]\n",
        " [0 1]\n",
        " [1 0]\n",
        " [0 1]\n",
        " [1 0]\n",
        " [1 0]\n",
        " [1 0]\n",
        " [0 1]\n",
        " [1 0]\n",
        " [1 0]\n",
        " [1 0]\n",
        " [0 1]\n",
        " [1 0]\n",
        " [1 0]\n",
        " [0 1]\n",
        " [0 1]\n",
        " [0 1]\n",
        " [0 1]\n",
        " [1 0]\n",
        " [0 1]\n",
        " [1 0]\n",
        " [1 0]\n",
        " [0 1]\n",
        " [0 1]\n",
        " [0 1]\n",
        " [1 0]\n",
        " [1 0]\n",
        " [1 0]\n",
        " [1 0]\n",
        " [1 0]\n",
        " [1 0]\n",
        " [1 0]\n",
        " [1 0]\n",
        " [0 1]\n",
        " [0 1]\n",
        " [0 1]\n",
        " [0 1]\n",
        " [1 0]\n",
        " [0 1]\n",
        " [1 0]\n",
        " [1 0]\n",
        " [1 0]\n",
        " [0 1]\n",
        " [1 0]\n",
        " [0 1]\n",
        " [0 1]\n",
        " [0 1]\n",
        " [0 1]\n",
        " [1 0]\n",
        " [0 1]\n",
        " [1 0]\n",
        " [1 0]\n",
        " [0 1]\n",
        " [1 0]\n",
        " [0 1]\n",
        " [0 1]\n",
        " [0 1]\n",
        " [0 1]\n",
        " [1 0]\n",
        " [1 0]\n",
        " [1 0]\n",
        " [0 1]\n",
        " [0 1]\n",
        " [1 0]\n",
        " [0 1]\n",
        " [1 0]\n",
        " [0 1]\n",
        " [1 0]\n",
        " [1 0]\n",
        " [0 1]\n",
        " [1 0]\n",
        " [1 0]\n",
        " [0 1]\n",
        " [0 1]\n",
        " [1 0]\n",
        " [1 0]\n",
        " [1 0]\n",
        " [0 1]\n",
        " [0 1]\n",
        " [1 0]\n",
        " [0 1]\n",
        " [0 1]\n",
        " [0 1]\n",
        " [0 1]\n",
        " [1 0]\n",
        " [0 1]\n",
        " [0 1]\n",
        " [1 0]\n",
        " [1 0]\n",
        " [1 0]\n",
        " [0 1]\n",
        " [0 1]\n",
        " [1 0]\n",
        " [0 1]\n",
        " [1 0]\n",
        " [0 1]\n",
        " [0 1]\n",
        " [1 0]\n",
        " [0 1]\n",
        " [0 1]\n",
        " [0 1]\n",
        " [0 1]\n",
        " [1 0]\n",
        " [1 0]\n",
        " [1 0]\n",
        " [1 0]\n",
        " [1 0]\n",
        " [0 1]\n",
        " [1 0]\n",
        " [1 0]\n",
        " [1 0]\n",
        " [1 0]\n",
        " [1 0]\n",
        " [0 1]\n",
        " [0 1]\n",
        " [1 0]\n",
        " [1 0]\n",
        " [1 0]\n",
        " [1 0]\n",
        " [1 0]\n",
        " [0 1]\n",
        " [1 0]\n",
        " [1 0]\n",
        " [1 0]\n",
        " [0 1]\n",
        " [0 1]\n",
        " [1 0]\n",
        " [0 1]\n",
        " [1 0]\n",
        " [1 0]\n",
        " [1 0]\n",
        " [1 0]\n",
        " [1 0]\n",
        " [1 0]\n",
        " [1 0]\n",
        " [0 1]\n",
        " [1 0]\n",
        " [1 0]\n",
        " [1 0]\n",
        " [0 1]\n",
        " [0 1]\n",
        " [1 0]\n",
        " [0 1]\n",
        " [1 0]\n",
        " [1 0]\n",
        " [0 1]\n",
        " [1 0]\n",
        " [0 1]\n",
        " [0 1]\n",
        " [1 0]\n",
        " [1 0]\n",
        " [1 0]\n",
        " [0 1]\n",
        " [1 0]\n",
        " [0 1]\n",
        " [1 0]\n",
        " [0 1]\n",
        " [0 1]\n",
        " [0 1]]\n"
       ]
      }
     ],
     "prompt_number": 11
    },
    {
     "cell_type": "code",
     "collapsed": false,
     "input": [],
     "language": "python",
     "metadata": {},
     "outputs": []
    }
   ],
   "metadata": {}
  }
 ]
}